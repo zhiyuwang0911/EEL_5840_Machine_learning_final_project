{
 "cells": [
  {
   "cell_type": "markdown",
   "id": "6571f144",
   "metadata": {},
   "source": [
    "# Final Project - Training Data"
   ]
  },
  {
   "cell_type": "markdown",
   "id": "df64d7e6",
   "metadata": {},
   "source": [
    "This Notebook loads and displays some examples from the training dataset.\n",
    "\n",
    "The training dataset contains a total of 9032 samples. All groups have been given the same training dataset and the final report will be graded based on the performance on this training data.\n",
    "\n",
    "* You should expect the test dataset to have the same format as the training data: $90,000\\times M$ numpy array, where $M$ is the number of test samples.\n",
    "* This means that *any* pre-processing applied in the training data should also be applied in the test data."
   ]
  },
  {
   "cell_type": "code",
   "execution_count": null,
   "id": "03787982",
   "metadata": {},
   "outputs": [],
   "source": [
    "import numpy as np\n",
    "import numpy.random as npr\n",
    "import matplotlib.pyplot as plt\n",
    "%matplotlib inline\n",
    "plt.style.use('bmh')"
   ]
  },
  {
   "cell_type": "code",
   "execution_count": null,
   "id": "b3a840f5",
   "metadata": {},
   "outputs": [],
   "source": [
    "# Loading Data\n",
    "data_train = np.load('data_train.npy')\n",
    "labels_train = np.load('t_train.npy')\n",
    "\n",
    "print(data_train.shape, labels_train.shape)"
   ]
  },
  {
   "cell_type": "code",
   "execution_count": null,
   "id": "1576a6be",
   "metadata": {},
   "outputs": [],
   "source": [
    "# Counting number samples per class\n",
    "vals, counts = np.unique(labels_train, return_counts=True)\n",
    "\n",
    "plt.bar(vals, counts)\n",
    "plt.xticks(range(10),range(10))\n",
    "plt.xlabel('Classes',size=20)\n",
    "plt.ylabel('# Samples per Class', size=20)\n",
    "plt.title('Training Data (Total = '+str(data_train.shape[1])+' samples)',size=15);"
   ]
  },
  {
   "cell_type": "code",
   "execution_count": null,
   "id": "6c536492",
   "metadata": {},
   "outputs": [],
   "source": [
    "# Labels Integer Encoding\n",
    "\n",
    "labels_names = ['x','square root','plus sign','negative sign','equal','percent','partial','product','pi','summation']"
   ]
  },
  {
   "cell_type": "code",
   "execution_count": null,
   "id": "745d22c4",
   "metadata": {
    "scrolled": false
   },
   "outputs": [],
   "source": [
    "# Displaying some examples per class\n",
    "\n",
    "for i in range(0,10):\n",
    "    rnd_sample = npr.permutation(np.where(labels_train==i)[0])\n",
    "    fig=plt.figure(figsize=(15,15))\n",
    "    for j in range(25):\n",
    "        fig.add_subplot(5,5,j+1)\n",
    "        plt.imshow(data_train[:,rnd_sample[j]].reshape((300,300)), cmap='gray')\n",
    "        label_idx = int(labels_train[rnd_sample[j]])\n",
    "        plt.axis('off');plt.title('Label '+str(label_idx)+': '+labels_names[label_idx],size=15)\n",
    "    plt.show()\n",
    "    print('\\n\\n')"
   ]
  },
  {
   "cell_type": "markdown",
   "id": "b1438027",
   "metadata": {},
   "source": [
    "---"
   ]
  }
 ],
 "metadata": {
  "kernelspec": {
   "display_name": "Python 3 (ipykernel)",
   "language": "python",
   "name": "python3"
  },
  "language_info": {
   "codemirror_mode": {
    "name": "ipython",
    "version": 3
   },
   "file_extension": ".py",
   "mimetype": "text/x-python",
   "name": "python",
   "nbconvert_exporter": "python",
   "pygments_lexer": "ipython3",
   "version": "3.9.12"
  },
  "latex_envs": {
   "LaTeX_envs_menu_present": true,
   "autoclose": false,
   "autocomplete": true,
   "bibliofile": "biblio.bib",
   "cite_by": "apalike",
   "current_citInitial": 1,
   "eqLabelWithNumbers": true,
   "eqNumInitial": 1,
   "hotkeys": {
    "equation": "Ctrl-E",
    "itemize": "Ctrl-I"
   },
   "labels_anchors": false,
   "latex_user_defs": false,
   "report_style_numbering": false,
   "user_envs_cfg": false
  },
  "varInspector": {
   "cols": {
    "lenName": 16,
    "lenType": 16,
    "lenVar": 40
   },
   "kernels_config": {
    "python": {
     "delete_cmd_postfix": "",
     "delete_cmd_prefix": "del ",
     "library": "var_list.py",
     "varRefreshCmd": "print(var_dic_list())"
    },
    "r": {
     "delete_cmd_postfix": ") ",
     "delete_cmd_prefix": "rm(",
     "library": "var_list.r",
     "varRefreshCmd": "cat(var_dic_list()) "
    }
   },
   "types_to_exclude": [
    "module",
    "function",
    "builtin_function_or_method",
    "instance",
    "_Feature"
   ],
   "window_display": false
  }
 },
 "nbformat": 4,
 "nbformat_minor": 5
}
